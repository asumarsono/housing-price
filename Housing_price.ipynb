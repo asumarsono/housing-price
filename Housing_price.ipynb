{
  "nbformat": 4,
  "nbformat_minor": 0,
  "metadata": {
    "colab": {
      "name": "Housing price.ipynb",
      "version": "0.3.2",
      "provenance": [],
      "include_colab_link": true
    },
    "kernelspec": {
      "name": "python3",
      "display_name": "Python 3"
    }
  },
  "cells": [
    {
      "cell_type": "markdown",
      "metadata": {
        "id": "view-in-github",
        "colab_type": "text"
      },
      "source": [
        "<a href=\"https://colab.research.google.com/github/asumarsono/housing-price/blob/master/Housing_price.ipynb\" target=\"_parent\"><img src=\"https://colab.research.google.com/assets/colab-badge.svg\" alt=\"Open In Colab\"/></a>"
      ]
    },
    {
      "metadata": {
        "id": "_69zd50aU2Zy",
        "colab_type": "code",
        "colab": {}
      },
      "cell_type": "code",
      "source": [
        "from __future__ import absolute_import, division, print_function\n",
        "import tensorflow as tf\n",
        "tf.logging.set_verbosity(tf.logging.ERROR)\n",
        "\n",
        "import numpy as np"
      ],
      "execution_count": 0,
      "outputs": []
    },
    {
      "metadata": {
        "id": "qPFbOKZQVJXB",
        "colab_type": "text"
      },
      "cell_type": "markdown",
      "source": [
        "Set up training data"
      ]
    },
    {
      "metadata": {
        "id": "TzZU5qN6VOSs",
        "colab_type": "code",
        "outputId": "866b8064-9a9c-4c66-b784-9458b8764aae",
        "colab": {
          "base_uri": "https://localhost:8080/",
          "height": 85
        }
      },
      "cell_type": "code",
      "source": [
        "sq_ft    = np.array([900, 1500, 2100, 2400])\n",
        "price    = np.array([300000, 500000, 700000, 800000])\n",
        "\n",
        "for i,c in enumerate(sq_ft):\n",
        "  print(\"Square footage = {}, price = ${}\".format(c, price[i]))"
      ],
      "execution_count": 2,
      "outputs": [
        {
          "output_type": "stream",
          "text": [
            "Square footage = 900, price = $300000\n",
            "Square footage = 1500, price = $500000\n",
            "Square footage = 2100, price = $700000\n",
            "Square footage = 2400, price = $800000\n"
          ],
          "name": "stdout"
        }
      ]
    },
    {
      "metadata": {
        "id": "iIioyFlbWLvM",
        "colab_type": "text"
      },
      "cell_type": "markdown",
      "source": [
        "**Create and compile model with loss & optimization functions**"
      ]
    },
    {
      "metadata": {
        "id": "HzjeVvlNWZ5p",
        "colab_type": "code",
        "colab": {}
      },
      "cell_type": "code",
      "source": [
        "model = tf.keras.Sequential([tf.keras.layers.Dense(units=1, input_shape=[1])])  # assemble layers into a model\n",
        "\n",
        "model.compile(loss='mean_squared_error', optimizer=tf.keras.optimizers.Adam(0.1))  # compile the model"
      ],
      "execution_count": 0,
      "outputs": []
    },
    {
      "metadata": {
        "id": "14TcCHz8XKhw",
        "colab_type": "text"
      },
      "cell_type": "markdown",
      "source": [
        "**Train model and look at some statistics**"
      ]
    },
    {
      "metadata": {
        "id": "X_xKDt_-W8qE",
        "colab_type": "code",
        "outputId": "5e5b156c-d12e-46cc-912b-a8e6648086b4",
        "colab": {
          "base_uri": "https://localhost:8080/",
          "height": 389
        }
      },
      "cell_type": "code",
      "source": [
        "history = model.fit(sq_ft, price, epochs=10000, verbose=False)\n",
        "import matplotlib.pyplot as plt\n",
        "plt.xlabel('Epoch Number')\n",
        "plt.ylabel(\"Loss Magnitude\")\n",
        "plt.plot(history.history['loss'])\n",
        "print(\"These are the layer variables: {}\".format(model.get_weights()))"
      ],
      "execution_count": 4,
      "outputs": [
        {
          "output_type": "stream",
          "text": [
            "These are the layer variables: [array([[333.1596]], dtype=float32), array([331.44772], dtype=float32)]\n"
          ],
          "name": "stdout"
        },
        {
          "output_type": "display_data",
          "data": {
            "image/png": "[encoded data removed]",
            "text/plain": [
              "<Figure size 576x396 with 1 Axes>"
            ]
          },
          "metadata": {
            "tags": []
          }
        }
      ]
    },
    {
      "metadata": {
        "id": "vhnuipllk2Kq",
        "colab_type": "text"
      },
      "cell_type": "markdown",
      "source": [
        "**Now predict housing price**"
      ]
    },
    {
      "metadata": {
        "id": "CjctDRgAWdac",
        "colab_type": "code",
        "outputId": "311e388b-d231-4983-e089-cbc345ded663",
        "colab": {
          "base_uri": "https://localhost:8080/",
          "height": 34
        }
      },
      "cell_type": "code",
      "source": [
        "print(model.predict([1000]))"
      ],
      "execution_count": 5,
      "outputs": [
        {
          "output_type": "stream",
          "text": [
            "[[333491.03]]\n"
          ],
          "name": "stdout"
        }
      ]
    }
  ]
}